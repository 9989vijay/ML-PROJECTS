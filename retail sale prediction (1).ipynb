{
 "cells": [
  {
   "cell_type": "markdown",
   "id": "c353451e-c5fc-422c-a9a6-09cc8735fded",
   "metadata": {},
   "source": [
    "# pandas"
   ]
  },
  {
   "cell_type": "code",
   "execution_count": 7,
   "id": "0352298b-29b4-4c3e-9297-3f84b7f0ec68",
   "metadata": {},
   "outputs": [],
   "source": [
    "import pandas as pd\n",
    "import numpy as np\n",
    "import matplotlib.pyplot as plt\n",
    "from sklearn.linear_model import LinearRegression\n",
    "from sklearn.model_selection import train_test_split\n"
   ]
  },
  {
   "cell_type": "code",
   "execution_count": 9,
   "id": "88891758-c2d3-482c-b675-05b56d27e2ed",
   "metadata": {},
   "outputs": [
    {
     "name": "stdout",
     "output_type": "stream",
     "text": [
      "         Date     Product  Sales   Store Region\n",
      "0  01-01-2024  Toothpaste    129  StoreC   East\n",
      "1  02-01-2024      Lotion    191  StoreA  North\n",
      "2  03-01-2024      Lotion    422  StoreA   West\n",
      "3  04-01-2024  Toothpaste    313  StoreA  North\n",
      "4  05-01-2024        Soap    458  StoreB  North\n"
     ]
    }
   ],
   "source": [
    "data = pd.read_csv(\"sales_sample_dataset.csv\")\n",
    "print(data.head())\n"
   ]
  },
  {
   "cell_type": "code",
   "execution_count": 6,
   "id": "680b935d-94ec-4cd9-88d7-136653673d27",
   "metadata": {},
   "outputs": [
    {
     "name": "stdout",
     "output_type": "stream",
     "text": [
      "        Date     Product  Sales   Store Region  Day  Month  Year\n",
      "0 2024-01-01  Toothpaste    129  StoreC   East    1      1  2024\n",
      "1 2024-01-02      Lotion    191  StoreA  North    2      1  2024\n",
      "2 2024-01-03      Lotion    422  StoreA   West    3      1  2024\n",
      "3 2024-01-04  Toothpaste    313  StoreA  North    4      1  2024\n",
      "4 2024-01-05        Soap    458  StoreB  North    5      1  2024\n"
     ]
    }
   ],
   "source": [
    "import pandas as pd\n",
    "\n",
    "# Step 1: Load your CSV\n",
    "data = pd.read_csv(\"sales_sample_dataset.csv\")\n",
    "\n",
    "# Step 2: Convert Date (correct format)\n",
    "data['Date'] = pd.to_datetime(data['Date'], dayfirst=True)\n",
    "\n",
    "# Step 3: Extract parts of the date\n",
    "data['Day'] = data['Date'].dt.day\n",
    "data['Month'] = data['Date'].dt.month\n",
    "data['Year'] = data['Date'].dt.year\n",
    "\n",
    "# Step 4: Display first 5 rows\n",
    "print(data.head())\n"
   ]
  },
  {
   "cell_type": "code",
   "execution_count": 19,
   "id": "219ebffc-87b4-4370-bb9a-d8cf8c1b8659",
   "metadata": {},
   "outputs": [],
   "source": [
    "X = data.drop(['Date', 'Sales'], axis=1)\n",
    "y = data['Sales']"
   ]
  },
  {
   "cell_type": "code",
   "execution_count": 14,
   "id": "ce6d6167-1211-4415-9505-a4ca95a31a4d",
   "metadata": {},
   "outputs": [],
   "source": [
    "from sklearn.preprocessing import LabelEncoder\n",
    "\n",
    "# Create encoder object\n",
    "le = LabelEncoder()\n",
    "\n",
    "# Convert text columns to numbers\n",
    "data['Product'] = le.fit_transform(data['Product'])\n",
    "data['Store'] = le.fit_transform(data['Store'])\n",
    "data['Region'] = le.fit_transform(data['Region'])\n"
   ]
  },
  {
   "cell_type": "code",
   "execution_count": 15,
   "id": "7db8b227-c2a9-47d0-bfa7-f3b40b788352",
   "metadata": {},
   "outputs": [
    {
     "name": "stdout",
     "output_type": "stream",
     "text": [
      "✅ Mean Squared Error: 17815.971239999995\n",
      "✅ R-squared Score: -0.3085584709760436\n"
     ]
    }
   ],
   "source": [
    "import pandas as pd\n",
    "from sklearn.model_selection import train_test_split\n",
    "from sklearn.ensemble import RandomForestRegressor\n",
    "from sklearn.metrics import mean_squared_error, r2_score\n",
    "from sklearn.preprocessing import LabelEncoder\n",
    "\n",
    "# Load and process data\n",
    "data = pd.read_csv(\"sales_sample_dataset.csv\")\n",
    "data['Date'] = pd.to_datetime(data['Date'], dayfirst=True)\n",
    "data['Day'] = data['Date'].dt.day\n",
    "data['Month'] = data['Date'].dt.month\n",
    "data['Year'] = data['Date'].dt.year\n",
    "\n",
    "# Convert categorical columns to numbers\n",
    "le = LabelEncoder()\n",
    "data['Product'] = le.fit_transform(data['Product'])\n",
    "data['Store'] = le.fit_transform(data['Store'])\n",
    "data['Region'] = le.fit_transform(data['Region'])\n",
    "\n",
    "# Split features and target\n",
    "X = data.drop(['Date', 'Sales'], axis=1)\n",
    "y = data['Sales']\n",
    "\n",
    "# Train-test split\n",
    "X_train, X_test, y_train, y_test = train_test_split(X, y, test_size=0.2, random_state=42)\n",
    "\n",
    "# Train model\n",
    "model = RandomForestRegressor(n_estimators=100, random_state=42)\n",
    "model.fit(X_train, y_train)\n",
    "\n",
    "# Predict and evaluate\n",
    "y_pred = model.predict(X_test)\n",
    "mse = mean_squared_error(y_test, y_pred)\n",
    "r2 = r2_score(y_test, y_pred)\n",
    "\n",
    "# Show results\n",
    "print(\"✅ Mean Squared Error:\", mse)\n",
    "print(\"✅ R-squared Score:\", r2)\n"
   ]
  },
  {
   "cell_type": "code",
   "execution_count": 16,
   "id": "795d4f2d-1a8c-472d-9220-c0f4d5adf053",
   "metadata": {},
   "outputs": [
    {
     "ename": "NameError",
     "evalue": "name 'plt' is not defined",
     "output_type": "error",
     "traceback": [
      "\u001b[1;31m---------------------------------------------------------------------------\u001b[0m",
      "\u001b[1;31mNameError\u001b[0m                                 Traceback (most recent call last)",
      "Cell \u001b[1;32mIn[16], line 1\u001b[0m\n\u001b[1;32m----> 1\u001b[0m plt\u001b[38;5;241m.\u001b[39mscatter(y_test, y_pred)\n\u001b[0;32m      2\u001b[0m plt\u001b[38;5;241m.\u001b[39mxlabel(\u001b[38;5;124m\"\u001b[39m\u001b[38;5;124mActual Sales\u001b[39m\u001b[38;5;124m\"\u001b[39m)\n\u001b[0;32m      3\u001b[0m plt\u001b[38;5;241m.\u001b[39mylabel(\u001b[38;5;124m\"\u001b[39m\u001b[38;5;124mPredicted Sales\u001b[39m\u001b[38;5;124m\"\u001b[39m)\n",
      "\u001b[1;31mNameError\u001b[0m: name 'plt' is not defined"
     ]
    }
   ],
   "source": [
    "plt.scatter(y_test, y_pred)\n",
    "plt.xlabel(\"Actual Sales\")\n",
    "plt.ylabel(\"Predicted Sales\")\n",
    "plt.title(\"Actual vs Predicted Sales\")\n",
    "plt.show()"
   ]
  },
  {
   "cell_type": "code",
   "execution_count": 17,
   "id": "2862efa8-28aa-4f86-a458-185609416074",
   "metadata": {},
   "outputs": [],
   "source": [
    "import matplotlib.pyplot as plt\n"
   ]
  },
  {
   "cell_type": "code",
   "execution_count": 18,
   "id": "b5feb11c-4bd5-4425-ab3a-2349f69bcb7e",
   "metadata": {},
   "outputs": [
    {
     "data": {
      "image/png": "[encoded data removed]",
      "text/plain": [
       "<Figure size 640x480 with 1 Axes>"
      ]
     },
     "metadata": {},
     "output_type": "display_data"
    }
   ],
   "source": [
    "import matplotlib.pyplot as plt\n",
    "\n",
    "plt.scatter(y_test, y_pred, color='blue')\n",
    "plt.plot([y_test.min(), y_test.max()], [y_test.min(), y_test.max()], 'r--', lw=2)\n",
    "plt.xlabel(\"Actual Sales\")\n",
    "plt.ylabel(\"Predicted Sales\")\n",
    "plt.title(\"Actual vs Predicted Sales\")\n",
    "plt.grid(True)\n",
    "plt.show()\n"
   ]
  },
  {
   "cell_type": "code",
   "execution_count": null,
   "id": "2ddea005-9bf1-41e8-a3ad-33cc0ca065d4",
   "metadata": {},
   "outputs": [],
   "source": []
  }
 ],
 "metadata": {
  "kernelspec": {
   "display_name": "Python [conda env:base] *",
   "language": "python",
   "name": "conda-base-py"
  },
  "language_info": {
   "codemirror_mode": {
    "name": "ipython",
    "version": 3
   },
   "file_extension": ".py",
   "mimetype": "text/x-python",
   "name": "python",
   "nbconvert_exporter": "python",
   "pygments_lexer": "ipython3",
   "version": "3.12.7"
  }
 },
 "nbformat": 4,
 "nbformat_minor": 5
}
